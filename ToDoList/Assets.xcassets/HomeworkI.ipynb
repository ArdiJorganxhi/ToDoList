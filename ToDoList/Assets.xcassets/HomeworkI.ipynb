{
  "cells": [
    {
      "cell_type": "markdown",
      "metadata": {
        "id": "17jUCogkcLK-"
      },
      "source": [
        "8-puzzle problem "
      ]
    },
    {
      "cell_type": "code",
      "execution_count": null,
      "metadata": {
        "id": "_5dPyou0cYTE"
      },
      "outputs": [],
      "source": [
        "# Depth first search in search of target - Using Recursion\n",
        "\n",
        "def dfs(src, target, limit, visited_states):\n",
        "    # Base case if Target found\n",
        "\n",
        "\n",
        "    for i in range(3):\n",
        "        l = \"\"\n",
        "        for j in range(3):\n",
        "            l += str(src[i * 3 + j]) + \" \"\n",
        "        print(l)\n",
        "\n",
        "\n",
        "    for i in range(3):\n",
        "        l = \"\"\n",
        "        for j in range(3):\n",
        "            l += str(target[i * 3 + j]) + \" \"\n",
        "        print(l)\n",
        "\n",
        "    print(\"is source the target? \" + str(src is target))\n",
        "    if src == target:\n",
        "        return True\n",
        "\n",
        "    # Base case if limit exceeded\n",
        "    print(\"limit for dfs is: \" + str(limit))\n",
        "    print(\"depth for dfs is: \" + str(0))\n",
        "\n",
        "\n",
        "    if limit > 0:\n",
        "        print(\"limit is bigger than depth\")\n",
        "    else:\n",
        "        return False\n",
        "\n",
        "    # Add source to visited_states\n",
        "    visited_states.append(src)\n",
        "\n",
        "    # Find possible slides up, down, left right to current empty site\n",
        "    ### Jump to possible_moves function\n",
        "\n",
        "    possibleMoves = possible_moves(src, visited_states)\n",
        "\n",
        "    # For all possible moves gotten from the possible moves function\n",
        "    # Check if src equals to new targets\n",
        "    # Return True if target found in given depth limit\n",
        "\n",
        "    for i in possibleMoves:\n",
        "        if dfs(i, target, limit - 1, visited_states) is True:\n",
        "            return True\n",
        "\n",
        "    return False\n",
        "\n",
        "\n",
        "def possible_moves(state, visited_states):\n",
        "    # Find index of empty spot and assign it to b\n",
        "\n",
        "    print(\"state for possible_moves:\")\n",
        "    for i in range(3):\n",
        "        l = \"\"\n",
        "        for j in range(3):\n",
        "            l += str(state[i * 3 + j]) + \" \"\n",
        "        print(l)\n",
        "\n",
        "    b = 0\n",
        "\n",
        "    while b < len(state):\n",
        "        if (state[b] == -1):\n",
        "            break\n",
        "        b += 1\n",
        "\n",
        "    print(\"b is: \" + str(b))\n",
        "\n",
        "    b = b\n",
        "\n",
        "    # 'd' for down, 'u' for up, 'r' for right, 'l' for left - directions array\n",
        "    possible_directions = []\n",
        "\n",
        "    # Add all possible direction into directions array - Hint using if statements\n",
        "    if (b < 6):\n",
        "        possible_directions.append('d')\n",
        "    if (b > 2):\n",
        "        possible_directions.append('u')\n",
        "    if (b % 3 < 2):\n",
        "        possible_directions.append('r')\n",
        "    if (b % 3 > 0):\n",
        "        possible_directions.append('l')\n",
        "\n",
        "    print(\"possible_directions is \" + str(possible_directions))\n",
        "\n",
        "    # If direction is possible then add state to move\n",
        "    pos_moves = []\n",
        "\n",
        "    # for all possible directions find the state if that move is played\n",
        "    ### Jump to gen function to generate all possible moves in the given directions\n",
        "\n",
        "    for i in possible_directions:\n",
        "        mov = gen(state, i, b)\n",
        "        if mov not in visited_states:\n",
        "            pos_moves.append(mov)\n",
        "\n",
        "    # return all possible moves only if the move not in visited_states\n",
        "    return pos_moves\n",
        "\n",
        "\n",
        "def gen(state, m, b):  # m(move) is direction to slide, b(blank) is index of empty spot\n",
        "    # create a copy of current state to test the move\n",
        "    temporaryState = state.copy()\n",
        "\n",
        "    # if move is to slide empty spot to the left and so on\n",
        "\n",
        "    temporaryIndex = b\n",
        "    if m == 'd':\n",
        "        temporaryIndex += 3\n",
        "    elif m == 'u':\n",
        "        temporaryIndex -= 3\n",
        "    elif m == 'r':\n",
        "        temporaryIndex += 1\n",
        "    elif m == 'l':\n",
        "        temporaryIndex -= 1\n",
        "\n",
        "    print(\"m is \" + str(m))\n",
        "    print(\"b is \" + str(b))\n",
        "\n",
        "    temp_value = temporaryState[temporaryIndex]\n",
        "    temporaryState[temporaryIndex] = temporaryState[b]\n",
        "    temporaryState[b] = temp_value\n",
        "\n",
        "    print(\"temporaryState is;\")\n",
        "    for i in range(3):\n",
        "        l = \"\"\n",
        "        for j in range(3):\n",
        "            l += str(temporaryState[i * 3 + j]) + \" \"\n",
        "        print(\"\\t\" + l)\n",
        "\n",
        "    # return new state with tested move to later check if \"src == target\"\n",
        "    return temporaryState\n",
        "\n",
        "\n",
        "def ids(src, target, depth):\n",
        "    # iterative-deepening search\n",
        "    # Return Min depth at which the target was found\n",
        "\n",
        "    visited_states = []\n",
        "    depth = 1\n",
        "\n",
        "    print(\"Minimum depth is \" + str(depth))\n",
        "    while dfs(src, target, depth, visited_states) is False:\n",
        "        depth += 1\n",
        "        print(\"Minimum depth is \" + str(depth))\n",
        "\n",
        "    return depth\n",
        "\n",
        "\n",
        "# Test 1\n",
        "src = [1, 2, 3, -1, 4, 5, 6, 7, 8]\n",
        "target = [1, 2, 3, 4, 5, -1, 6, 7, 8]\n",
        "\n",
        "depth = 1\n",
        "print(\"min depth is \" + str(ids(src, target, depth)))  # Minimum depth should be 2\n"
      ]
    },
    {
      "cell_type": "code",
      "execution_count": null,
      "metadata": {
        "id": "4BRJZZD4U16w"
      },
      "outputs": [],
      "source": []
    },
    {
      "cell_type": "code",
      "execution_count": null,
      "metadata": {
        "id": "AcHdAmxQcGYm"
      },
      "outputs": [],
      "source": [
        "def possible_moves(state,visited_states): \n",
        "    # Find index of empty spot and assign it to b\n",
        "    b = None  \n",
        "    \n",
        "    #'d' for down, 'u' for up, 'r' for right, 'l' for left - directions array\n",
        "    d = []\n",
        "                                    \n",
        "    #Add all possible direction into directions array - Hint using if statements\n",
        "    \n",
        "    \n",
        "    \n",
        "    # If direction is possible then add state to move\n",
        "    pos_moves = []\n",
        "    \n",
        "    # for all possible directions find the state if that move is played\n",
        "    ### Jump to gen function to generate all possible moves in the given directions\n",
        "    \n",
        "    # return all possible moves only if the move not in visited_states\n",
        "    pass"
      ]
    },
    {
      "cell_type": "code",
      "execution_count": null,
      "metadata": {
        "id": "hx6MReXhcNLV"
      },
      "outputs": [],
      "source": [
        "\n",
        "\n",
        "def gen(state, m, b): # m(move) is direction to slide, b(blank) is index of empty spot\n",
        "    # create a copy of current state to test the move\n",
        "    temp = None                                \n",
        "    \n",
        "    # if move is to slide empty spot to the left and so on\n",
        "    \n",
        "    \n",
        "    \n",
        "    \n",
        "    \n",
        "    # return new state with tested move to later check if \"src == target\"\n",
        "    return temp\n",
        "\n"
      ]
    },
    {
      "cell_type": "markdown",
      "metadata": {
        "id": "0-lRztFPWqpD"
      },
      "source": [
        "In the next function:\n",
        "\n",
        "    \n",
        "\n",
        "*   Start with a depth of 1 until given depth see if target is reached To find the least depth required to find target \n",
        "*   Create a visited_stated array to keep a check\n",
        "*    Call DFS function for given depth limit\n",
        "\n"
      ]
    },
    {
      "cell_type": "code",
      "execution_count": null,
      "metadata": {
        "id": "YfuAAVbmkvRV"
      },
      "outputs": [],
      "source": [
        "def ids(src,target,depth):\n",
        "    #iterative-deepening search\n",
        "    # Return Min depth at which the target was found\n",
        "    pass"
      ]
    },
    {
      "cell_type": "code",
      "execution_count": null,
      "metadata": {
        "id": "ZvOdRu5ZWKHf"
      },
      "outputs": [],
      "source": []
    },
    {
      "cell_type": "markdown",
      "metadata": {
        "id": "I3sm2eUyWKt8"
      },
      "source": [
        "In order to simply coding, we may use a list instead of NxN matrix. Alternatively you may utilize pandas or numpy here. Thus, 3x3 matrix will be a 1x9 list.\n"
      ]
    },
    {
      "cell_type": "code",
      "execution_count": null,
      "metadata": {
        "id": "1fxy12AiWJJ1"
      },
      "outputs": [],
      "source": [
        "#Test 1\n",
        "src = [1,2,3,-1,4,5,6,7,8]\n",
        "target = [1,2,3,4,5,-1,6,7,8]         \n",
        "       \n",
        "depth = 1\n",
        "ids(src, target, depth # Minimum depth should be 2\n",
        "    "
      ]
    },
    {
      "cell_type": "code",
      "execution_count": null,
      "metadata": {
        "id": "zhu6Yku6XYWi"
      },
      "outputs": [],
      "source": [
        "# Test 2\n",
        "src = [1,2,3,-1,4,5,6,7,8] \n",
        "target=[1,2,3,6,4,5,-1,7,8]\n",
        "\n",
        "depth = 1\n",
        "ids(src, target, depth) # Minimum depth is 1"
      ]
    }
  ],
  "metadata": {
    "colab": {
      "provenance": []
    },
    "kernelspec": {
      "display_name": "Python 3",
      "name": "python3"
    },
    "language_info": {
      "name": "python"
    }
  },
  "nbformat": 4,
  "nbformat_minor": 0
}
